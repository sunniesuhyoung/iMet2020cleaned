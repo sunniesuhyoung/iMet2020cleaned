{
 "cells": [
  {
   "cell_type": "code",
   "execution_count": 1,
   "metadata": {},
   "outputs": [],
   "source": [
    "import networkx as nx\n",
    "import pandas as pd\n",
    "import numpy as np\n",
    "\n",
    "attribute_name_file = 'labels.csv'\n",
    "attributes_df = pd.read_csv(attribute_name_file)\n",
    "\n",
    "pred_attributes_file = 'train_preds.csv'\n",
    "preds_df = pd.read_csv(pred_attributes_file)"
   ]
  },
  {
   "cell_type": "code",
   "execution_count": 2,
   "metadata": {},
   "outputs": [],
   "source": [
    "def graph_fbeta_score(predictions_df, attributes_df, graph, beta):\n",
    "    true_pos = 0.\n",
    "    false_pos = 0.\n",
    "    false_neg = 0.\n",
    "    for i, row in predictions_df.iterrows():\n",
    "        sample_r = 0.\n",
    "        sample_p = 0.\n",
    "        preds = row['pred_attribute_ids']\n",
    "        true = row['attribute_ids']\n",
    "\n",
    "        sample_acc = 0.\n",
    "        similarities = []\n",
    "        for t in true:\n",
    "            for p in preds:\n",
    "                try:\n",
    "                    similarity = nx.shortest_path_length(graph,\n",
    "                                                         attributes_df.iloc[t].attribute_name,\n",
    "                                                         attributes_df.iloc[p].attribute_name)\n",
    "                    similarity = 1. / (similarity + 1)\n",
    "                    similarities.append(similarity)\n",
    "                except:\n",
    "                    pass\n",
    "        if len(similarities) == 0:\n",
    "            if len(true) != 0:\n",
    "                false_neg += 1\n",
    "        else:\n",
    "            true_pos += max(similarities)\n",
    "            false_neg += (1 - max(similarities))\n",
    "            \n",
    "        similarities = []\n",
    "        for p in preds:\n",
    "            for t in true:\n",
    "                if p != t:\n",
    "                    try:\n",
    "                        similarity = nx.shortest_path_length(graph,\n",
    "                                             attributes_df.iloc[t].attribute_name,\n",
    "                                             attributes_df.iloc[p].attribute_name)\n",
    "                        similarity = 1. / (similarity + 1)\n",
    "                        similarities.append(similarity)\n",
    "                    except:\n",
    "                        pass\n",
    "        if len(similarities) == 0:\n",
    "            if len(preds) != 0:\n",
    "                false_pos += len(preds)\n",
    "        else:\n",
    "            false_pos += sum(similarities)\n",
    "\n",
    "    recall = true_pos / (true_pos + false_neg)\n",
    "    precision = true_pos / (true_pos + false_pos)\n",
    "    print(true_pos)\n",
    "    print(false_pos)\n",
    "    print(false_neg)\n",
    "    score = (beta**2 + 1) * precision * recall / (beta**2 * precision + recall)\n",
    "    return score"
   ]
  },
  {
   "cell_type": "markdown",
   "metadata": {},
   "source": [
    "## Example: Graph metric on countries"
   ]
  },
  {
   "cell_type": "code",
   "execution_count": 3,
   "metadata": {},
   "outputs": [
    {
     "ename": "NameError",
     "evalue": "name 'attributes' is not defined",
     "output_type": "error",
     "traceback": [
      "\u001b[0;31m---------------------------------------------------------------------------\u001b[0m",
      "\u001b[0;31mNameError\u001b[0m                                 Traceback (most recent call last)",
      "\u001b[0;32m<ipython-input-3-88287f0bd0e5>\u001b[0m in \u001b[0;36m<module>\u001b[0;34m\u001b[0m\n\u001b[1;32m      1\u001b[0m \u001b[0;31m# Load only countries into graph as nodes\u001b[0m\u001b[0;34m\u001b[0m\u001b[0;34m\u001b[0m\u001b[0;34m\u001b[0m\u001b[0m\n\u001b[0;32m----> 2\u001b[0;31m \u001b[0mcountries\u001b[0m \u001b[0;34m=\u001b[0m \u001b[0mattributes\u001b[0m\u001b[0;34m[\u001b[0m\u001b[0mattributes\u001b[0m\u001b[0;34m.\u001b[0m\u001b[0mattribute_name\u001b[0m\u001b[0;34m.\u001b[0m\u001b[0mstr\u001b[0m\u001b[0;34m.\u001b[0m\u001b[0mstartswith\u001b[0m\u001b[0;34m(\u001b[0m\u001b[0;34m'country'\u001b[0m\u001b[0;34m)\u001b[0m\u001b[0;34m]\u001b[0m\u001b[0;34m\u001b[0m\u001b[0;34m\u001b[0m\u001b[0m\n\u001b[0m\u001b[1;32m      3\u001b[0m \u001b[0mcountries_graph\u001b[0m \u001b[0;34m=\u001b[0m \u001b[0mnx\u001b[0m\u001b[0;34m.\u001b[0m\u001b[0mGraph\u001b[0m\u001b[0;34m(\u001b[0m\u001b[0;34m)\u001b[0m\u001b[0;34m\u001b[0m\u001b[0;34m\u001b[0m\u001b[0m\n\u001b[1;32m      4\u001b[0m \u001b[0mcountries_graph\u001b[0m\u001b[0;34m.\u001b[0m\u001b[0madd_nodes_from\u001b[0m\u001b[0;34m(\u001b[0m\u001b[0mcountries\u001b[0m\u001b[0;34m.\u001b[0m\u001b[0mattribute_name\u001b[0m\u001b[0;34m)\u001b[0m\u001b[0;34m\u001b[0m\u001b[0;34m\u001b[0m\u001b[0m\n",
      "\u001b[0;31mNameError\u001b[0m: name 'attributes' is not defined"
     ]
    }
   ],
   "source": [
    "# Load only countries into graph as nodes\n",
    "countries = attributes[attributes.attribute_name.str.startswith('country')]\n",
    "countries_graph = nx.Graph()\n",
    "countries_graph.add_nodes_from(countries.attribute_name)"
   ]
  },
  {
   "cell_type": "code",
   "execution_count": 4,
   "metadata": {},
   "outputs": [
    {
     "ename": "NameError",
     "evalue": "name 'countries_graph' is not defined",
     "output_type": "error",
     "traceback": [
      "\u001b[0;31m---------------------------------------------------------------------------\u001b[0m",
      "\u001b[0;31mNameError\u001b[0m                                 Traceback (most recent call last)",
      "\u001b[0;32m<ipython-input-4-5ecae528b062>\u001b[0m in \u001b[0;36m<module>\u001b[0;34m\u001b[0m\n\u001b[1;32m      1\u001b[0m \u001b[0;31m# Load edgelist into graph and update countries_graph\u001b[0m\u001b[0;34m\u001b[0m\u001b[0;34m\u001b[0m\u001b[0;34m\u001b[0m\u001b[0m\n\u001b[1;32m      2\u001b[0m \u001b[0mcountries_edges\u001b[0m \u001b[0;34m=\u001b[0m \u001b[0mnx\u001b[0m\u001b[0;34m.\u001b[0m\u001b[0mread_edgelist\u001b[0m\u001b[0;34m(\u001b[0m\u001b[0;34m'edgelists/country.edgelist'\u001b[0m\u001b[0;34m,\u001b[0m \u001b[0mdelimiter\u001b[0m\u001b[0;34m=\u001b[0m\u001b[0;34m', '\u001b[0m\u001b[0;34m)\u001b[0m\u001b[0;34m\u001b[0m\u001b[0;34m\u001b[0m\u001b[0m\n\u001b[0;32m----> 3\u001b[0;31m \u001b[0mcountries_graph\u001b[0m\u001b[0;34m.\u001b[0m\u001b[0mupdate\u001b[0m\u001b[0;34m(\u001b[0m\u001b[0mcountries_edges\u001b[0m\u001b[0;34m)\u001b[0m\u001b[0;34m\u001b[0m\u001b[0;34m\u001b[0m\u001b[0m\n\u001b[0m",
      "\u001b[0;31mNameError\u001b[0m: name 'countries_graph' is not defined"
     ]
    }
   ],
   "source": [
    "# Load edgelist into graph and update countries_graph\n",
    "countries_edges = nx.read_edgelist('edgelists/country.edgelist', delimiter=', ')\n",
    "countries_graph.update(countries_edges)"
   ]
  },
  {
   "cell_type": "code",
   "execution_count": 82,
   "metadata": {},
   "outputs": [],
   "source": [
    "# Process preds_df to only contain country-related predictions (i.e. < 100)\n",
    "str_to_npy = lambda x: np.array([int(i) for i in str(x).split(' ') if i != ''])\n",
    "filter_for_countries = lambda x: x[x < 100]\n",
    "preds_df.pred_attribute_ids = preds_df.pred_attribute_ids.apply(str_to_npy).apply(filter_for_countries)\n",
    "preds_df.attribute_ids = preds_df.attribute_ids.apply(str_to_npy).apply(filter_for_countries)"
   ]
  },
  {
   "cell_type": "code",
   "execution_count": 92,
   "metadata": {},
   "outputs": [
    {
     "name": "stdout",
     "output_type": "stream",
     "text": [
      "21547.280952381003\n",
      "32798.01309523805\n",
      "3784.719047619043\n"
     ]
    },
    {
     "data": {
      "text/plain": [
       "0.6920673543976612"
      ]
     },
     "execution_count": 92,
     "metadata": {},
     "output_type": "execute_result"
    }
   ],
   "source": [
    "graph_fbeta_score(preds_df, attributes_df, countries_graph, 2)"
   ]
  },
  {
   "cell_type": "code",
   "execution_count": null,
   "metadata": {},
   "outputs": [],
   "source": []
  }
 ],
 "metadata": {
  "kernelspec": {
   "display_name": "Python 3",
   "language": "python",
   "name": "python3"
  },
  "language_info": {
   "codemirror_mode": {
    "name": "ipython",
    "version": 3
   },
   "file_extension": ".py",
   "mimetype": "text/x-python",
   "name": "python",
   "nbconvert_exporter": "python",
   "pygments_lexer": "ipython3",
   "version": "3.8.3"
  }
 },
 "nbformat": 4,
 "nbformat_minor": 4
}
