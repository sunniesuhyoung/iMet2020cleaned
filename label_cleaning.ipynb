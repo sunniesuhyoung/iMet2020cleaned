{
 "cells": [
  {
   "cell_type": "markdown",
   "metadata": {},
   "source": [
    "# Cleaning and Structuring the Label Space of the iMet Collection 2020\n",
    "\n",
    "### Vivien Nguyen & Sunnie S. Y. Kim. [CVPR 2021 Fine-Grained Visual Categorization Workshop](https://sites.google.com/view/fgvc8)\n",
    "\n",
    "- Paper : TBD\n",
    "- Code: https://github.com/sunniesuhyoung/iMet2020cleaned\n",
    "- Description: In this notebook, we demonstrate our proposed changes and clean/structure the iMet 2020 (training) labels. For compatibility, we don't change the size of the label space (3,474 attributes) and only make modifications that involve adding attribute label(s) to certain samples."
   ]
  },
  {
   "cell_type": "markdown",
   "metadata": {},
   "source": [
    "## 0. Load libraries and files"
   ]
  },
  {
   "cell_type": "code",
   "execution_count": 13,
   "metadata": {},
   "outputs": [],
   "source": [
    "import pickle, copy\n",
    "import numpy as np\n",
    "import pandas as pd\n",
    "import matplotlib.pyplot as plt\n",
    "import Levenshtein as lev\n",
    "from itertools import combinations"
   ]
  },
  {
   "cell_type": "code",
   "execution_count": 2,
   "metadata": {},
   "outputs": [],
   "source": [
    "train_labels_path = '../yandex/folds.csv'\n",
    "test_labels_path = '../imet-2020-fgvc7/private_solution.csv'\n",
    "sample_submission_path = '../imet-2020-fgvc7/sample_submission.csv'\n",
    "attributes_path = 'attributes.csv'"
   ]
  },
  {
   "cell_type": "code",
   "execution_count": 3,
   "metadata": {
    "scrolled": true
   },
   "outputs": [],
   "source": [
    "train_labels = pd.read_csv(train_labels_path) # Training labels\n",
    "test_labels = pd.read_csv(test_labels_path) # Test labels\n",
    "sample_submission = pd.read_csv(sample_submission_path) # List of a smaller test subset\n",
    "attributes = pd.read_csv(attributes_path) # Attribute ID, name, etc."
   ]
  },
  {
   "cell_type": "markdown",
   "metadata": {},
   "source": [
    "## 1. Encode AND relationships as separate labels\n",
    "\n",
    "**Method**: We identify attributes with \"and\" in their names.\n",
    "\n",
    "**Modification**: When an \"and\" attribute is labeled, we also label its smaller tokens that exist as separate labels."
   ]
  },
  {
   "cell_type": "code",
   "execution_count": 4,
   "metadata": {},
   "outputs": [
    {
     "name": "stdout",
     "output_type": "stream",
     "text": [
      "334 attributes have \"and\" in ther names\n"
     ]
    }
   ],
   "source": [
    "# Identfify attributes with 'and' in their names\n",
    "and_id = []; and_name = []\n",
    "for i in range(3474):\n",
    "    name = attributes.name[i]\n",
    "    if ' and ' in name: and_id.append(i); and_name.append(name)\n",
    "print(len(and_id), 'attributes have \"and\" in ther names')"
   ]
  },
  {
   "cell_type": "code",
   "execution_count": 5,
   "metadata": {},
   "outputs": [
    {
     "name": "stdout",
     "output_type": "stream",
     "text": [
      "170 30 134\n"
     ]
    }
   ],
   "source": [
    "# For each 'and' attribute, check if their smaller tokens are existing attributes\n",
    "count_all_in = 0; count_none_in = 0; count_some_in = 0\n",
    "for i in range(len(and_id)):\n",
    "    split = and_name[i].split(' and ')\n",
    "    all_in = True; none_in = True\n",
    "    for n in split:\n",
    "        if n in list(attributes.name): none_in = False\n",
    "        else: all_in = False\n",
    "    if all_in: count_all_in += 1\n",
    "    elif none_in: count_none_in += 1\n",
    "    else: count_some_in += 1\n",
    "print(count_all_in, count_none_in, count_some_in)"
   ]
  },
  {
   "cell_type": "code",
   "execution_count": 6,
   "metadata": {},
   "outputs": [],
   "source": [
    "# Make modifications to the label set\n",
    "for j in range(train_labels.shape[0]):\n",
    "    orig_attr = [int(i) for i in train_labels['attribute_ids'].loc[j].split(' ')]\n",
    "    new_attr = copy.deepcopy(orig_attr)\n",
    "    for attr in orig_attr:\n",
    "        if attr in and_id:\n",
    "            split_name = attributes.name[attr].split(' and ')\n",
    "            for n in split_name:\n",
    "                if n in list(attributes.name):\n",
    "                    # Find which attribute id to be map to\n",
    "                    if n == 'egypt': replace_id = 23\n",
    "                    elif n == 'french': replace_id = 341\n",
    "                    else: replace_id = int(attributes['attribute_id'][attributes.name==n])\n",
    "                    # Add that attribute id if it's not already in new_attr\n",
    "                    if replace_id not in new_attr: new_attr.append(replace_id)\n",
    "\n",
    "    new_attr = [str(a) for a in new_attr]\n",
    "    new_attr = ' '.join(new_attr)\n",
    "    train_labels.loc[j, 'attribute_ids'] = new_attr"
   ]
  },
  {
   "cell_type": "markdown",
   "metadata": {},
   "source": [
    "## 2. Encode OR relationships as separate labels\n",
    "\n",
    "**Method**: We identify attributes with \"or\" in their names. We separate the attribute name into smaller tokens using \"or\" as the separator.\n",
    "\n",
    "**Modification**: When an \"or\" attribute is labeled, we also label its smaller tokens that exist as separate labels."
   ]
  },
  {
   "cell_type": "code",
   "execution_count": 7,
   "metadata": {},
   "outputs": [
    {
     "name": "stdout",
     "output_type": "stream",
     "text": [
      "117 attributes have \"or\" in ther names\n"
     ]
    }
   ],
   "source": [
    "# Identfify attributes with 'or' in their names\n",
    "or_id = []; or_name = []\n",
    "for i in range(3474):\n",
    "    name = attributes.name[i]\n",
    "    if ' or ' in name: or_id.append(i); or_name.append(name)\n",
    "print(len(or_id), 'attributes have \"or\" in ther names')"
   ]
  },
  {
   "cell_type": "code",
   "execution_count": 8,
   "metadata": {},
   "outputs": [
    {
     "name": "stdout",
     "output_type": "stream",
     "text": [
      "77 11 29\n"
     ]
    }
   ],
   "source": [
    "# For each 'or' attribute, check if their smaller tokens are existing attributes\n",
    "count_all_in = 0; count_none_in = 0; count_some_in = 0;\n",
    "for i in range(117):\n",
    "    split = or_name[i].split(' or ')\n",
    "    all_in = True; none_in = True\n",
    "    for n in split:\n",
    "        if n in list(attributes.name): none_in = False\n",
    "        else: all_in = False\n",
    "    if all_in: count_all_in += 1\n",
    "    elif none_in: count_none_in += 1\n",
    "    else: count_some_in += 1\n",
    "print(count_all_in, count_none_in, count_some_in)"
   ]
  },
  {
   "cell_type": "code",
   "execution_count": 9,
   "metadata": {},
   "outputs": [],
   "source": [
    "# Make modifications to the label set\n",
    "for j in range(train_labels.shape[0]):\n",
    "    orig_attr = [int(i) for i in train_labels['attribute_ids'].loc[j].split(' ')]\n",
    "    new_attr = copy.deepcopy(orig_attr)\n",
    "    for attr in orig_attr:\n",
    "        if attr in or_id:\n",
    "            split_name = attributes.name[attr].split(' or ')\n",
    "            for n in split_name:\n",
    "                if n in list(attributes.name):\n",
    "                    # Find which attribute id to be map to\n",
    "                    if attr == 16 and n == 'colombia': replace_id = 15\n",
    "                    elif attr == 16 and n == 'ecuador': replace_id = 22\n",
    "                    elif attr == 18 and n == 'costa rica': replace_id = 17\n",
    "                    elif attr in [25, 26] and n == 'egypt': replace_id = 23\n",
    "                    elif attr == 30 and n == 'france': replace_id = 29\n",
    "                    elif attr == 38 and n == 'guatemala': replace_id = 37\n",
    "                    elif attr == 38 and n == 'mexico': replace_id = 60\n",
    "                    elif attr == 43 and n == 'india': replace_id = 42\n",
    "                    elif attr in [43, 47, 48, 49, 50] and n == 'iran': replace_id = 45\n",
    "                    elif attr in [127, 192] and n == 'french': replace_id = 341\n",
    "                    elif attr == 235 and n == 'china': replace_id = 233\n",
    "                    elif attr == 235 and n == 'japan': replace_id = 448\n",
    "                    elif attr == 260 and n == 'costa rica': replace_id = 259\n",
    "                    elif attr in [343, 344, 345, 346, 347, 348, 349, 363, 439, 680, 751] and n == 'french': replace_id = 341\n",
    "                    elif attr in [363, 372, 373, 374, 375, 441] and n == 'greek': replace_id = 370\n",
    "                    else: replace_id = int(attributes['attribute_id'][attributes.name==n])\n",
    "                    # Add that attribute id if it's not already in new_attr\n",
    "                    if replace_id not in new_attr: new_attr.append(replace_id)\n",
    "\n",
    "    new_attr = [str(a) for a in new_attr]\n",
    "    new_attr = ' '.join(new_attr)\n",
    "    train_labels.loc[j, 'attribute_ids'] = new_attr"
   ]
  },
  {
   "cell_type": "markdown",
   "metadata": {},
   "source": [
    "## 3. Encode mutually exclusive relationships\n",
    "\n",
    "The only set of attributes we found to be mutually exclusive is the dimension attributes: large (781), medium (782), small (783), tiny (784), very large (785). We don't make any modification to the labels, but in the paper, we explore changing the evaluation scheme for mutually exclusivie attributes."
   ]
  },
  {
   "cell_type": "code",
   "execution_count": 10,
   "metadata": {},
   "outputs": [
    {
     "data": {
      "text/html": [
       "<div>\n",
       "<style scoped>\n",
       "    .dataframe tbody tr th:only-of-type {\n",
       "        vertical-align: middle;\n",
       "    }\n",
       "\n",
       "    .dataframe tbody tr th {\n",
       "        vertical-align: top;\n",
       "    }\n",
       "\n",
       "    .dataframe thead th {\n",
       "        text-align: right;\n",
       "    }\n",
       "</style>\n",
       "<table border=\"1\" class=\"dataframe\">\n",
       "  <thead>\n",
       "    <tr style=\"text-align: right;\">\n",
       "      <th></th>\n",
       "      <th>attribute_id</th>\n",
       "      <th>attribute_name</th>\n",
       "      <th>category</th>\n",
       "      <th>name</th>\n",
       "      <th>train_count</th>\n",
       "      <th>test_count</th>\n",
       "    </tr>\n",
       "  </thead>\n",
       "  <tbody>\n",
       "    <tr>\n",
       "      <th>781</th>\n",
       "      <td>781</td>\n",
       "      <td>dimension::large</td>\n",
       "      <td>dimension</td>\n",
       "      <td>large</td>\n",
       "      <td>21142</td>\n",
       "      <td>10923</td>\n",
       "    </tr>\n",
       "    <tr>\n",
       "      <th>782</th>\n",
       "      <td>782</td>\n",
       "      <td>dimension::medium</td>\n",
       "      <td>dimension</td>\n",
       "      <td>medium</td>\n",
       "      <td>20672</td>\n",
       "      <td>11703</td>\n",
       "    </tr>\n",
       "    <tr>\n",
       "      <th>783</th>\n",
       "      <td>783</td>\n",
       "      <td>dimension::small</td>\n",
       "      <td>dimension</td>\n",
       "      <td>small</td>\n",
       "      <td>19881</td>\n",
       "      <td>11874</td>\n",
       "    </tr>\n",
       "    <tr>\n",
       "      <th>784</th>\n",
       "      <td>784</td>\n",
       "      <td>dimension::tiny</td>\n",
       "      <td>dimension</td>\n",
       "      <td>tiny</td>\n",
       "      <td>19602</td>\n",
       "      <td>12309</td>\n",
       "    </tr>\n",
       "    <tr>\n",
       "      <th>785</th>\n",
       "      <td>785</td>\n",
       "      <td>dimension::very large</td>\n",
       "      <td>dimension</td>\n",
       "      <td>very large</td>\n",
       "      <td>20657</td>\n",
       "      <td>11313</td>\n",
       "    </tr>\n",
       "  </tbody>\n",
       "</table>\n",
       "</div>"
      ],
      "text/plain": [
       "     attribute_id         attribute_name   category        name  train_count  \\\n",
       "781           781       dimension::large  dimension       large        21142   \n",
       "782           782      dimension::medium  dimension      medium        20672   \n",
       "783           783       dimension::small  dimension       small        19881   \n",
       "784           784        dimension::tiny  dimension        tiny        19602   \n",
       "785           785  dimension::very large  dimension  very large        20657   \n",
       "\n",
       "     test_count  \n",
       "781       10923  \n",
       "782       11703  \n",
       "783       11874  \n",
       "784       12309  \n",
       "785       11313  "
      ]
     },
     "execution_count": 10,
     "metadata": {},
     "output_type": "execute_result"
    }
   ],
   "source": [
    "attributes.loc[781:785]"
   ]
  },
  {
   "cell_type": "markdown",
   "metadata": {},
   "source": [
    "## 4. Merge identical attributes\n",
    "\n",
    "We focused on identifying and merging identical attributes in the **medium** category because the other four categories (**culture**, **country**, **dimensions**, **tags**) have very few or zero identical attributes.\n",
    "\n",
    "**Method**: We first calculated the Levenshtein ratio between all pairs of attributes, then manually verified 200 pairs with the highest ratio (most similar). We identified 104 identical attribute pairs. \n",
    "\n",
    "**Modification**: For each pair, whenever one attribute is labeled, we label the other attribute."
   ]
  },
  {
   "cell_type": "code",
   "execution_count": 11,
   "metadata": {},
   "outputs": [],
   "source": [
    "# Calculate Levenshtein ratio\n",
    "pairs = list(combinations(list(attributes.loc[attributes['category']=='medium', 'name']), 2))\n",
    "lev_ratio_list = []\n",
    "for pair in pairs:\n",
    "    lev_ratio_list.append(lev.ratio(pair[0].lower(), pair[1].lower()))"
   ]
  },
  {
   "cell_type": "code",
   "execution_count": 14,
   "metadata": {},
   "outputs": [
    {
     "data": {
      "image/png": "[encoded data removed]",
      "text/plain": [
       "<Figure size 432x288 with 1 Axes>"
      ]
     },
     "metadata": {
      "needs_background": "light"
     },
     "output_type": "display_data"
    }
   ],
   "source": [
    "# Plot historgram\n",
    "plt.hist(lev_ratio_list, bins=20)\n",
    "plt.title('Levenshtein ratio between all pairs of attribute names')\n",
    "plt.show()"
   ]
  },
  {
   "cell_type": "code",
   "execution_count": 15,
   "metadata": {},
   "outputs": [],
   "source": [
    "# Sort the pairs by descending \n",
    "lev_ratio = np.array(lev_ratio_list)\n",
    "pairs = np.array(pairs)\n",
    "descending = (-lev_ratio).argsort()\n",
    "pairs = pairs[descending]\n",
    "lev_ratio = lev_ratio[descending]"
   ]
  },
  {
   "cell_type": "code",
   "execution_count": 16,
   "metadata": {},
   "outputs": [],
   "source": [
    "# Medium exceptions (found with manual verification)\n",
    "exception = [20, 37, 52, 53, 54, 61, 67, 68, 69, 73, 74, 75, 76, 81]\n",
    "exception += [82, 83, 84, 85, 87, 88, 89, 90, 93, 94, 96, 97, 98]\n",
    "exception += [99, 102, 104, 109, 114, 115, 116, 117, 118, 121]\n",
    "exception += [124, 125, 127, 128, 129, 130, 131, 132, 137, 139]\n",
    "exception += [140, 141, 143, 144, 145, 146, 147, 148, 149, 150, 151]\n",
    "exception += [152, 153, 154, 155, 156, 159, 161, 162, 163, 165, 168]\n",
    "exception += [169, 170, 171, 172, 173, 174, 175, 176, 178, 179, 180, 181, 182, 183]\n",
    "exception += [184, 185, 186, 187, 188, 189, 192, 193, 194, 195, 197, 198, 199]"
   ]
  },
  {
   "cell_type": "code",
   "execution_count": 17,
   "metadata": {},
   "outputs": [
    {
     "name": "stdout",
     "output_type": "stream",
     "text": [
      "\n",
      "This pair: color lithograph(1115) - colored lithograph(1122)\n",
      "Existing pair: color lithograph(1115) - [1117]\n",
      "Final pair: color lithograph(1115) - [1117, 1122]\n",
      "\n",
      "This pair: metallic thread on silk(1795) - metal thread on silk(1786)\n",
      "Existing pair: metallic thread on silk(1795) - [1796]\n",
      "Final pair: metallic thread on silk(1795) - [1796, 1786]\n",
      "\n",
      "This pair: color lithography(1117) - colored lithograph(1122)\n",
      "Existing pair: color lithography(1117) - [1115]\n",
      "Final pair: color lithography(1117) - [1115, 1122]\n",
      "\n",
      "This pair: colored lithograph(1122) - color lithography(1117)\n",
      "Existing pair: colored lithograph(1122) - [1115]\n",
      "Final pair: colored lithograph(1122) - [1115, 1117]\n",
      "\n",
      "This pair: glaze(1439) - glazes(1448)\n",
      "Existing pair: glaze(1439) - [1440]\n",
      "Final pair: glaze(1439) - [1440, 1448]\n",
      "\n",
      "This pair: polychrome(2084) - polychromy(2100)\n",
      "Existing pair: polychrome(2084) - [2092]\n",
      "Final pair: polychrome(2084) - [2092, 2100]\n",
      "\n",
      "This pair: silk and metal thread(2313) - silk & metal thread(2300)\n",
      "Existing pair: silk and metal thread(2313) - [2322]\n",
      "Final pair: silk and metal thread(2313) - [2322, 2300]\n",
      "\n",
      "This pair: copper-gold alloy (shakudō)(1154) - copper-gold alloy (<i>shakudō</i>)(1152)\n",
      "Existing pair: copper-gold alloy (shakudō)(1154) - [1153]\n",
      "Final pair: copper-gold alloy (shakudō)(1154) - [1153, 1152]\n"
     ]
    }
   ],
   "source": [
    "# Create a dictionary of identical attributes\n",
    "identical_pairs = {}\n",
    "for i in range(200):\n",
    "    a, b = pairs[i]\n",
    "    if i not in exception:\n",
    "        a_id = int(attributes[(attributes.name==a) & (attributes.category=='medium')].attribute_id)\n",
    "        b_id = int(attributes[(attributes.name==b) & (attributes.category=='medium')].attribute_id)\n",
    "        if a_id in identical_pairs.keys():\n",
    "            print('\\nThis pair: {}({}) - {}({})'.format(a, a_id, b, b_id))\n",
    "            print('Existing pair: {}({}) - {}'.format(a, a_id, identical_pairs[a_id]))\n",
    "            identical_pairs[a_id].append(b_id)\n",
    "            print('Final pair: {}({}) - {}'.format(a, a_id, identical_pairs[a_id]))\n",
    "        else:\n",
    "            identical_pairs[a_id] = [b_id]\n",
    "        if b_id in identical_pairs.keys(): \n",
    "            print('\\nThis pair: {}({}) - {}({})'.format(b, b_id, a, a_id))\n",
    "            print('Existing pair: {}({}) - {}'.format(b, b_id, identical_pairs[b_id]))\n",
    "            identical_pairs[b_id].append(a_id)\n",
    "            print('Final pair: {}({}) - {}'.format(b, b_id, identical_pairs[b_id]))\n",
    "        else:\n",
    "            identical_pairs[b_id] = [a_id]\n",
    "    \n",
    "    if False:\n",
    "        print()\n",
    "        print(i, lev_ratio[i])\n",
    "        print(a)\n",
    "        print(b)\n",
    "        display(attributes[(attributes.name==a) | (attributes.name==b)])"
   ]
  },
  {
   "cell_type": "code",
   "execution_count": 18,
   "metadata": {},
   "outputs": [],
   "source": [
    "# Make modifications to the label set\n",
    "for j in range(train_labels.shape[0]):\n",
    "    orig_attr = [int(i) for i in train_labels['attribute_ids'].loc[j].split(' ')]\n",
    "    new_attr = copy.deepcopy(orig_attr)\n",
    "    for attr in orig_attr:\n",
    "        if attr in list(identical_pairs.keys()):\n",
    "            identical_attr = identical_pairs[attr]\n",
    "            for a in identical_attr:\n",
    "                if a not in new_attr:\n",
    "                    new_attr.append(a)\n",
    "\n",
    "    new_attr = [str(a) for a in new_attr]\n",
    "    new_attr = ' '.join(new_attr)\n",
    "    train_labels.loc[j, 'attribute_ids'] = new_attr"
   ]
  },
  {
   "cell_type": "markdown",
   "metadata": {},
   "source": [
    "## 5. Label supercategories\n",
    "\n",
    "Again, we focused on identifying super/sub-categories in the **medium** category because the other four categories (**culture**, **country**, **dimensions**, **tags**) have very few or zero of such relationships.\n",
    "\n",
    "**Method**: For each attribute, we identify other attributes that contain its name (e.g. \"black and brown ink (852)\" contains \"brown ink (965)\") and determine them as subcategories.\n",
    "\n",
    "**Modification**: Whenever a subcategory (e.g. black and brown ink) is labeled, we label its supercategory (e.g. brown ink)."
   ]
  },
  {
   "cell_type": "code",
   "execution_count": 19,
   "metadata": {},
   "outputs": [],
   "source": [
    "# Get a list of attribute names\n",
    "names = list(attributes.name[attributes.category=='medium'])\n",
    "ids = list(attributes.attribute_id[attributes.category=='medium'])"
   ]
  },
  {
   "cell_type": "code",
   "execution_count": 20,
   "metadata": {},
   "outputs": [],
   "source": [
    "# Create a dictionary of super/sub-categories\n",
    "supsub_pairs = {}\n",
    "for i in range(len(ids)):\n",
    "    attr1_id = ids[i]\n",
    "    attr1 = names[i]\n",
    "    for j in range(len(ids)):\n",
    "        attr2_id = ids[j]\n",
    "        attr2 = names[j]\n",
    "        if attr1 != attr2:\n",
    "            if attr1 in attr2:\n",
    "                # Add pair to the dictionary (key: subcategory, value: list of supercategories)\n",
    "                if attr2 in supsub_pairs.keys(): supsub_pairs[attr2_id].append(attr1_id)\n",
    "                else: supsub_pairs[attr2_id] = [attr1_id]\n",
    "                    \n",
    "                # print('[{}] ({}) in [{}] ({})'.format(attr1, attr1_id, attr2, attr2_id))"
   ]
  },
  {
   "cell_type": "code",
   "execution_count": 21,
   "metadata": {},
   "outputs": [],
   "source": [
    "# Make modifications to the label set\n",
    "for j in range(train_labels.shape[0]):\n",
    "    orig_attr = [int(i) for i in train_labels['attribute_ids'].loc[j].split(' ')]\n",
    "    new_attr = copy.deepcopy(orig_attr)\n",
    "    for attr in orig_attr:\n",
    "        if attr in list(supsub_pairs.keys()):\n",
    "            sup_attr = supsub_pairs[attr]\n",
    "            for a in sup_attr:\n",
    "                if a not in new_attr:\n",
    "                    new_attr.append(a)\n",
    "\n",
    "    new_attr = [str(a) for a in new_attr]\n",
    "    new_attr = ' '.join(new_attr)\n",
    "    train_labels.loc[j, 'attribute_ids'] = new_attr"
   ]
  },
  {
   "cell_type": "markdown",
   "metadata": {},
   "source": [
    "## 6. Output the cleaned label set"
   ]
  },
  {
   "cell_type": "code",
   "execution_count": 22,
   "metadata": {},
   "outputs": [],
   "source": [
    "train_labels.to_csv('cleaned_training_labels.csv', index=False)"
   ]
  },
  {
   "cell_type": "code",
   "execution_count": null,
   "metadata": {},
   "outputs": [],
   "source": []
  }
 ],
 "metadata": {
  "kernelspec": {
   "display_name": "Python 3",
   "language": "python",
   "name": "python3"
  },
  "language_info": {
   "codemirror_mode": {
    "name": "ipython",
    "version": 3
   },
   "file_extension": ".py",
   "mimetype": "text/x-python",
   "name": "python",
   "nbconvert_exporter": "python",
   "pygments_lexer": "ipython3",
   "version": "3.6.8"
  }
 },
 "nbformat": 4,
 "nbformat_minor": 4
}
